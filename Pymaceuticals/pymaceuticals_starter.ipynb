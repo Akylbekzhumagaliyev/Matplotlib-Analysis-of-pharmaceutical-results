{
 "cells": [
  {
   "cell_type": "markdown",
   "metadata": {},
   "source": [
    "## Observations and Insights"
   ]
  },
  {
   "cell_type": "markdown",
   "metadata": {},
   "source": []
  },
  {
   "cell_type": "markdown",
   "metadata": {},
   "source": [
    "## Dependencies and starter code"
   ]
  },
  {
   "cell_type": "code",
   "execution_count": 3,
   "metadata": {},
   "outputs": [
    {
     "name": "stdout",
     "output_type": "stream",
     "text": [
      "249\n",
      "1893\n"
     ]
    },
    {
     "data": {
      "text/html": [
       "<div>\n",
       "<style scoped>\n",
       "    .dataframe tbody tr th:only-of-type {\n",
       "        vertical-align: middle;\n",
       "    }\n",
       "\n",
       "    .dataframe tbody tr th {\n",
       "        vertical-align: top;\n",
       "    }\n",
       "\n",
       "    .dataframe thead th {\n",
       "        text-align: right;\n",
       "    }\n",
       "</style>\n",
       "<table border=\"1\" class=\"dataframe\">\n",
       "  <thead>\n",
       "    <tr style=\"text-align: right;\">\n",
       "      <th></th>\n",
       "      <th>Mouse ID</th>\n",
       "      <th>Drug Regimen</th>\n",
       "      <th>Sex</th>\n",
       "      <th>Age_months</th>\n",
       "      <th>Weight (g)</th>\n",
       "      <th>Timepoint</th>\n",
       "      <th>Tumor Volume (mm3)</th>\n",
       "      <th>Metastatic Sites</th>\n",
       "    </tr>\n",
       "  </thead>\n",
       "  <tbody>\n",
       "    <tr>\n",
       "      <th>0</th>\n",
       "      <td>k403</td>\n",
       "      <td>Ramicane</td>\n",
       "      <td>Male</td>\n",
       "      <td>21</td>\n",
       "      <td>16</td>\n",
       "      <td>0</td>\n",
       "      <td>45.000000</td>\n",
       "      <td>0</td>\n",
       "    </tr>\n",
       "    <tr>\n",
       "      <th>1</th>\n",
       "      <td>k403</td>\n",
       "      <td>Ramicane</td>\n",
       "      <td>Male</td>\n",
       "      <td>21</td>\n",
       "      <td>16</td>\n",
       "      <td>5</td>\n",
       "      <td>38.825898</td>\n",
       "      <td>0</td>\n",
       "    </tr>\n",
       "    <tr>\n",
       "      <th>2</th>\n",
       "      <td>k403</td>\n",
       "      <td>Ramicane</td>\n",
       "      <td>Male</td>\n",
       "      <td>21</td>\n",
       "      <td>16</td>\n",
       "      <td>10</td>\n",
       "      <td>35.014271</td>\n",
       "      <td>1</td>\n",
       "    </tr>\n",
       "    <tr>\n",
       "      <th>3</th>\n",
       "      <td>k403</td>\n",
       "      <td>Ramicane</td>\n",
       "      <td>Male</td>\n",
       "      <td>21</td>\n",
       "      <td>16</td>\n",
       "      <td>15</td>\n",
       "      <td>34.223992</td>\n",
       "      <td>1</td>\n",
       "    </tr>\n",
       "    <tr>\n",
       "      <th>4</th>\n",
       "      <td>k403</td>\n",
       "      <td>Ramicane</td>\n",
       "      <td>Male</td>\n",
       "      <td>21</td>\n",
       "      <td>16</td>\n",
       "      <td>20</td>\n",
       "      <td>32.997729</td>\n",
       "      <td>1</td>\n",
       "    </tr>\n",
       "  </tbody>\n",
       "</table>\n",
       "</div>"
      ],
      "text/plain": [
       "  Mouse ID Drug Regimen   Sex  Age_months  Weight (g)  Timepoint  \\\n",
       "0     k403     Ramicane  Male          21          16          0   \n",
       "1     k403     Ramicane  Male          21          16          5   \n",
       "2     k403     Ramicane  Male          21          16         10   \n",
       "3     k403     Ramicane  Male          21          16         15   \n",
       "4     k403     Ramicane  Male          21          16         20   \n",
       "\n",
       "   Tumor Volume (mm3)  Metastatic Sites  \n",
       "0           45.000000                 0  \n",
       "1           38.825898                 0  \n",
       "2           35.014271                 1  \n",
       "3           34.223992                 1  \n",
       "4           32.997729                 1  "
      ]
     },
     "execution_count": 3,
     "metadata": {},
     "output_type": "execute_result"
    }
   ],
   "source": [
    "# Dependencies and Setup\n",
    "import matplotlib.pyplot as plt\n",
    "import pandas as pd\n",
    "import scipy.stats as st\n",
    "import numpy as np\n",
    "from scipy.stats import linregress\n",
    "\n",
    "# Study data files\n",
    "mouse_metadata = \"data/Mouse_metadata.csv\"\n",
    "study_results = \"data/Study_results.csv\"\n",
    "\n",
    "# Read the mouse data and the study results\n",
    "mouse_metadata = pd.read_csv(mouse_metadata)\n",
    "study_results = pd.read_csv(study_results)\n",
    "print(len(mouse_metadata))\n",
    "print(len(study_results))\n",
    "# Combine the data into a single dataset\n",
    "combined_data=pd.merge(mouse_metadata,study_results,on=\"Mouse ID\")\n",
    "combined_data.head()"
   ]
  },
  {
   "cell_type": "markdown",
   "metadata": {},
   "source": [
    "## Summary statistics"
   ]
  },
  {
   "cell_type": "code",
   "execution_count": 4,
   "metadata": {},
   "outputs": [
    {
     "data": {
      "text/html": [
       "<div>\n",
       "<style scoped>\n",
       "    .dataframe tbody tr th:only-of-type {\n",
       "        vertical-align: middle;\n",
       "    }\n",
       "\n",
       "    .dataframe tbody tr th {\n",
       "        vertical-align: top;\n",
       "    }\n",
       "\n",
       "    .dataframe thead th {\n",
       "        text-align: right;\n",
       "    }\n",
       "</style>\n",
       "<table border=\"1\" class=\"dataframe\">\n",
       "  <thead>\n",
       "    <tr style=\"text-align: right;\">\n",
       "      <th>Drug Regimen</th>\n",
       "      <th>Capomulin</th>\n",
       "      <th>Ceftamin</th>\n",
       "      <th>Infubinol</th>\n",
       "      <th>Ketapril</th>\n",
       "      <th>Naftisol</th>\n",
       "      <th>Placebo</th>\n",
       "      <th>Propriva</th>\n",
       "      <th>Ramicane</th>\n",
       "      <th>Stelasyn</th>\n",
       "      <th>Zoniferol</th>\n",
       "    </tr>\n",
       "  </thead>\n",
       "  <tbody>\n",
       "    <tr>\n",
       "      <th>mean</th>\n",
       "      <td>40.675741</td>\n",
       "      <td>52.591172</td>\n",
       "      <td>52.884795</td>\n",
       "      <td>55.235638</td>\n",
       "      <td>54.331565</td>\n",
       "      <td>54.033581</td>\n",
       "      <td>52.322552</td>\n",
       "      <td>40.216745</td>\n",
       "      <td>54.233149</td>\n",
       "      <td>53.236507</td>\n",
       "    </tr>\n",
       "    <tr>\n",
       "      <th>median</th>\n",
       "      <td>41.557809</td>\n",
       "      <td>51.776157</td>\n",
       "      <td>51.820584</td>\n",
       "      <td>53.698743</td>\n",
       "      <td>52.509285</td>\n",
       "      <td>52.288934</td>\n",
       "      <td>50.854632</td>\n",
       "      <td>40.673236</td>\n",
       "      <td>52.431737</td>\n",
       "      <td>51.818479</td>\n",
       "    </tr>\n",
       "    <tr>\n",
       "      <th>sem</th>\n",
       "      <td>0.329346</td>\n",
       "      <td>0.469821</td>\n",
       "      <td>0.492236</td>\n",
       "      <td>0.603860</td>\n",
       "      <td>0.596466</td>\n",
       "      <td>0.581331</td>\n",
       "      <td>0.512884</td>\n",
       "      <td>0.320955</td>\n",
       "      <td>0.573111</td>\n",
       "      <td>0.516398</td>\n",
       "    </tr>\n",
       "    <tr>\n",
       "      <th>std</th>\n",
       "      <td>4.994774</td>\n",
       "      <td>6.268188</td>\n",
       "      <td>6.567243</td>\n",
       "      <td>8.279709</td>\n",
       "      <td>8.134708</td>\n",
       "      <td>7.821003</td>\n",
       "      <td>6.507770</td>\n",
       "      <td>4.846308</td>\n",
       "      <td>7.710419</td>\n",
       "      <td>6.966589</td>\n",
       "    </tr>\n",
       "    <tr>\n",
       "      <th>var</th>\n",
       "      <td>24.947764</td>\n",
       "      <td>39.290177</td>\n",
       "      <td>43.128684</td>\n",
       "      <td>68.553577</td>\n",
       "      <td>66.173479</td>\n",
       "      <td>61.168083</td>\n",
       "      <td>42.351070</td>\n",
       "      <td>23.486704</td>\n",
       "      <td>59.450562</td>\n",
       "      <td>48.533355</td>\n",
       "    </tr>\n",
       "  </tbody>\n",
       "</table>\n",
       "</div>"
      ],
      "text/plain": [
       "Drug Regimen  Capomulin   Ceftamin  Infubinol   Ketapril   Naftisol  \\\n",
       "mean          40.675741  52.591172  52.884795  55.235638  54.331565   \n",
       "median        41.557809  51.776157  51.820584  53.698743  52.509285   \n",
       "sem            0.329346   0.469821   0.492236   0.603860   0.596466   \n",
       "std            4.994774   6.268188   6.567243   8.279709   8.134708   \n",
       "var           24.947764  39.290177  43.128684  68.553577  66.173479   \n",
       "\n",
       "Drug Regimen    Placebo   Propriva   Ramicane   Stelasyn  Zoniferol  \n",
       "mean          54.033581  52.322552  40.216745  54.233149  53.236507  \n",
       "median        52.288934  50.854632  40.673236  52.431737  51.818479  \n",
       "sem            0.581331   0.512884   0.320955   0.573111   0.516398  \n",
       "std            7.821003   6.507770   4.846308   7.710419   6.966589  \n",
       "var           61.168083  42.351070  23.486704  59.450562  48.533355  "
      ]
     },
     "execution_count": 4,
     "metadata": {},
     "output_type": "execute_result"
    }
   ],
   "source": [
    "# Generate a summary statistics table of mean, median, variance, \n",
    "# standard deviation, and SEM of the tumor volume for each regimen\n",
    "\n",
    "# mean=combined_data.groupby([\"Drug Regimen\"])[\"Tumor Volume (mm3)\"].mean()\n",
    "# median=combined_data.groupby([\"Drug Regimen\"])[\"Tumor Volume (mm3)\"].median()\n",
    "# variance=combined_data.groupby([\"Drug Regimen\"])[\"Tumor Volume (mm3)\"].var()\n",
    "# std=combined_data.groupby([\"Drug Regimen\"])[\"Tumor Volume (mm3)\"].std()\n",
    "# sem=combined_data.groupby([\"Drug Regimen\"])[\"Tumor Volume (mm3)\"].sem()\n",
    "\n",
    "# summary=pd.DataFrame({\"Mean\":mean, \n",
    "#                       \"Median\": median,\n",
    "#                       \"Variance\":variance,\n",
    "#                       \"St Deviation\":std,\n",
    "#                       \"SEM\":sem\n",
    "#                      })\n",
    "\n",
    "summary=pd.pivot_table(combined_data,values=\"Tumor Volume (mm3)\",\\\n",
    "                       columns=\"Drug Regimen\",aggfunc={\"Tumor Volume (mm3)\":[np.mean,np.median,np.var,np.std,st.sem]})\n",
    "\n",
    "summary.head()"
   ]
  },
  {
   "cell_type": "markdown",
   "metadata": {},
   "source": [
    "## Bar plots"
   ]
  },
  {
   "cell_type": "code",
   "execution_count": 5,
   "metadata": {},
   "outputs": [
    {
     "data": {
      "image/png": "[encoded data removed]",
      "text/plain": [
       "<Figure size 432x288 with 1 Axes>"
      ]
     },
     "metadata": {
      "needs_background": "light"
     },
     "output_type": "display_data"
    }
   ],
   "source": [
    "# Generate a bar plot showing number of data points for each treatment regimen using pandas\n",
    "group=combined_data.groupby([\"Drug Regimen\"])\n",
    "datapoints=group[\"Timepoint\"].count()\n",
    "datapoints.plot(kind=\"bar\",title=\"Number of data points for each treatment regimen\",)\n",
    "plt.tight_layout()"
   ]
  },
  {
   "cell_type": "code",
   "execution_count": 6,
   "metadata": {},
   "outputs": [
    {
     "data": {
      "image/png": "[encoded data removed]",
      "text/plain": [
       "<Figure size 432x288 with 1 Axes>"
      ]
     },
     "metadata": {
      "needs_background": "light"
     },
     "output_type": "display_data"
    }
   ],
   "source": [
    "# Generate a bar plot showing number of data points for each treatment regimen using pyplot\n",
    "datapoints.plot.bar()\n",
    "plt.title(\"Number of data points for each treatment regimen\")\n",
    "plt.tight_layout()\n",
    "plt.show()"
   ]
  },
  {
   "cell_type": "markdown",
   "metadata": {},
   "source": [
    "## Pie plots"
   ]
  },
  {
   "cell_type": "code",
   "execution_count": 7,
   "metadata": {},
   "outputs": [
    {
     "data": {
      "image/png": "[encoded data removed]",
      "text/plain": [
       "<Figure size 432x288 with 1 Axes>"
      ]
     },
     "metadata": {},
     "output_type": "display_data"
    }
   ],
   "source": [
    "# Generate a pie plot showing the distribution of female versus male mice using pandas\n",
    "group_by_sex=combined_data.groupby([\"Sex\"])\n",
    "distr_by_sex=group_by_sex[\"Mouse ID\"].count()\n",
    "distr_by_sex.plot(kind=\"pie\",title=\"Distribution of female versus male mice\",counterclock=False, \n",
    "                  startangle=90,autopct='%1.0f%%')\n",
    "plt.ylabel('')\n",
    "plt.show()"
   ]
  },
  {
   "cell_type": "code",
   "execution_count": 8,
   "metadata": {},
   "outputs": [
    {
     "data": {
      "text/plain": [
       "(-1.1237092556834725,\n",
       " 1.1061726675065824,\n",
       " -1.104962138341283,\n",
       " 1.100236292301966)"
      ]
     },
     "execution_count": 8,
     "metadata": {},
     "output_type": "execute_result"
    },
    {
     "data": {
      "image/png": "[encoded data removed]",
      "text/plain": [
       "<Figure size 432x288 with 1 Axes>"
      ]
     },
     "metadata": {},
     "output_type": "display_data"
    }
   ],
   "source": [
    "# Generate a pie plot showing the distribution of female versus male mice using pyplot\n",
    "plt.pie(distr_by_sex,labels=distr_by_sex.index,autopct='%1.0f%%', counterclock=False, startangle=90,explode=(0, 0.02))\n",
    "plt.title(\"Distribution of female versus male mice\")\n",
    "plt.axis('equal')"
   ]
  },
  {
   "cell_type": "markdown",
   "metadata": {},
   "source": [
    "## Quartiles, outliers and boxplots"
   ]
  },
  {
   "cell_type": "code",
   "execution_count": 9,
   "metadata": {},
   "outputs": [
    {
     "name": "stdout",
     "output_type": "stream",
     "text": [
      "IQR is  22.74251795250001\n",
      "**************************************************\n",
      "Lower outliers: \n",
      " Empty DataFrame\n",
      "Columns: [Mouse ID, Tumor Volume (mm3)]\n",
      "Index: [] \n",
      " \n",
      " ************************************************** \n",
      "Upper outliers:\n",
      " Empty DataFrame\n",
      "Columns: [Mouse ID, Tumor Volume (mm3)]\n",
      "Index: []\n"
     ]
    }
   ],
   "source": [
    "# Calculate the final tumor volume of each mouse across four of the most promising treatment regimens:\n",
    "# Capomulin, Ramicane, Infubinol, and Ceftamin.. \n",
    "\n",
    "\n",
    "timepoint_data=combined_data.loc[:,[\"Drug Regimen\",\"Mouse ID\",\"Timepoint\"]]\n",
    "timepoint=timepoint_data.groupby([\"Drug Regimen\",\"Mouse ID\"]).max()\n",
    "tumor_volume_data=combined_data.loc[:,[\"Drug Regimen\",\"Mouse ID\",\"Timepoint\",\"Tumor Volume (mm3)\"]]\n",
    "new_data=pd.merge(timepoint,tumor_volume_data,how=\"inner\",on=[\"Drug Regimen\",\"Mouse ID\",\"Timepoint\"])\n",
    "new_data=new_data.loc[(new_data[\"Drug Regimen\"]==\"Capomulin\")|(new_data[\"Drug Regimen\"]==\"Ramicane\")|\n",
    "                      (new_data[\"Drug Regimen\"]==\"Infubinol\")|(new_data[\"Drug Regimen\"]==\"Ceftamin\"),:]\n",
    "new_data=new_data.loc[:,[\"Mouse ID\",\"Tumor Volume (mm3)\"]]\n",
    "# print(new_data)\n",
    "\n",
    "# Calculate the IQR and quantitatively determine if there are any potential outliers. \n",
    "lowerq=new_data.quantile(0.25)\n",
    "upperq=new_data.quantile(0.75)\n",
    "IQR=upperq-lowerq\n",
    "print(\"IQR is \", IQR[0])\n",
    "lower_range=lowerq -(1.5 * IQR)\n",
    "upper_range=upperq +(1.5 * IQR)\n",
    "lower_outliers=new_data.loc[new_data[\"Tumor Volume (mm3)\"]<lower_range[0]]\n",
    "upper_outliers=new_data.loc[new_data[\"Tumor Volume (mm3)\"]>upper_range[0]]\n",
    "print(\"*\"*50)\n",
    "print(\"Lower outliers: \\n\", lower_outliers, \"\\n \\n\", \"*\"*50, \"\\nUpper outliers:\\n\", upper_outliers)"
   ]
  },
  {
   "cell_type": "code",
   "execution_count": 10,
   "metadata": {},
   "outputs": [
    {
     "name": "stdout",
     "output_type": "stream",
     "text": [
      "      Tumor Volume (mm3)\n",
      "0.25           37.187744\n",
      "0.50           45.000000\n",
      "0.75           59.930262\n"
     ]
    },
    {
     "data": {
      "text/plain": [
       "<matplotlib.axes._subplots.AxesSubplot at 0x21bdd660278>"
      ]
     },
     "execution_count": 10,
     "metadata": {},
     "output_type": "execute_result"
    },
    {
     "data": {
      "image/png": "[encoded data removed]",
      "text/plain": [
       "<Figure size 432x288 with 1 Axes>"
      ]
     },
     "metadata": {
      "needs_background": "light"
     },
     "output_type": "display_data"
    }
   ],
   "source": [
    "# Generate a box plot of the final tumor volume of each mouse across four regimens of interest\n",
    "print(new_data.quantile([0.25,0.5,0.75]))\n",
    "new_data.boxplot()"
   ]
  },
  {
   "cell_type": "markdown",
   "metadata": {},
   "source": [
    "## Line and scatter plots"
   ]
  },
  {
   "cell_type": "code",
   "execution_count": 11,
   "metadata": {},
   "outputs": [
    {
     "data": {
      "text/plain": [
       "Text(0, 0.5, 'Tumor Volume (mm3)')"
      ]
     },
     "execution_count": 11,
     "metadata": {},
     "output_type": "execute_result"
    },
    {
     "data": {
      "image/png": "[encoded data removed]",
      "text/plain": [
       "<Figure size 432x288 with 1 Axes>"
      ]
     },
     "metadata": {
      "needs_background": "light"
     },
     "output_type": "display_data"
    }
   ],
   "source": [
    "# Generate a line plot of time point versus tumor volume for a mouse treated with Capomulin\n",
    "mouse_data=combined_data.loc[combined_data[\"Mouse ID\"]==\"s185\"]\n",
    "x_axis=mouse_data[\"Timepoint\"]\n",
    "y_axis=mouse_data[\"Tumor Volume (mm3)\"]\n",
    "plt.plot(x_axis,y_axis,marker='o',color='c',linewidth=2, markersize=8)\n",
    "plt.grid()\n",
    "plt.title(\"Mouse s185 treated with Capomulin\")\n",
    "plt.xlabel('Timepoint')\n",
    "plt.ylabel('Tumor Volume (mm3)')"
   ]
  },
  {
   "cell_type": "code",
   "execution_count": 108,
   "metadata": {},
   "outputs": [
    {
     "data": {
      "text/plain": [
       "Text(0, 0.5, 'Tumor Volume (mm3)')"
      ]
     },
     "execution_count": 108,
     "metadata": {},
     "output_type": "execute_result"
    },
    {
     "data": {
      "image/png": "[encoded data removed]",
      "text/plain": [
       "<Figure size 432x288 with 1 Axes>"
      ]
     },
     "metadata": {
      "needs_background": "light"
     },
     "output_type": "display_data"
    }
   ],
   "source": [
    "# Generate a scatter plot of mouse weight versus average tumor volume for the Capomulin regimen\n",
    "\n",
    "tumor_avg_data=combined_data.loc[:,[\"Drug Regimen\",\"Mouse ID\",\"Weight (g)\",\"Tumor Volume (mm3)\"]]\n",
    "tumor_avg=tumor_avg_data.groupby([\"Drug Regimen\",\"Mouse ID\",\"Weight (g)\"]).mean()\n",
    "corr_coef_data=combined_data.loc[:,[\"Drug Regimen\",\"Mouse ID\",\"Weight (g)\"]]\n",
    "corr_coef_data=corr_coef_data.groupby([\"Drug Regimen\",\"Mouse ID\"]).mean()\n",
    "corr_data=pd.merge(tumor_avg,corr_coef_data,how=\"inner\",on=[\"Drug Regimen\",\"Mouse ID\",\"Weight (g)\"])\n",
    "corr_data=corr_data.loc[\"Capomulin\"]\n",
    "\n",
    "x_axis=corr_data[\"Weight (g)\"]\n",
    "data=corr_data[\"Tumor Volume (mm3)\"]\n",
    "plt.scatter(x_axis,data,marker='o',facecolors=\"red\",edgecolors=\"black\",s=150,alpha=0.5)\n",
    "plt.plot([14, 26], [34, 46], '-',color=\"c\")\n",
    "plt.title(\"Mouse weight vs Average tumor volume \\n Capomulin\")\n",
    "plt.xlabel('Weight (g)')\n",
    "plt.ylabel('Tumor Volume (mm3)')"
   ]
  },
  {
   "cell_type": "code",
   "execution_count": 142,
   "metadata": {},
   "outputs": [
    {
     "name": "stdout",
     "output_type": "stream",
     "text": [
      "Correlation coefficient: \n",
      "\n",
      "                     Weight (g)  Tumor Volume (mm3)\n",
      "Weight (g)            1.000000            0.841936\n",
      "Tumor Volume (mm3)    0.841936            1.000000\n"
     ]
    },
    {
     "data": {
      "image/png": "[encoded data removed]",
      "text/plain": [
       "<Figure size 432x288 with 1 Axes>"
      ]
     },
     "metadata": {
      "needs_background": "light"
     },
     "output_type": "display_data"
    }
   ],
   "source": [
    "# Calculate the correlation coefficient and linear regression model for mouse weight \n",
    "# and average tumor volume for the Capomulin regimen\n",
    "\n",
    "print(\"Correlation coefficient: \\n\\n\",corr_data.corr(method ='pearson'))\n",
    "\n",
    "x_axis = np.arange(0, len(corr_data), 1)\n",
    "corr=corr_data[\"Tumor Volume (mm3)\"]\n",
    "(slope, intercept, r_value, p_value, std_err) = linregress(x_axis, corr)\n",
    "fit = slope * x_axis + intercept\n",
    "\n",
    "fig, ax = plt.subplots()\n",
    "fig.suptitle(\"Mouse weight vs Average tumor volume \\n Capomulin\", fontsize=12, fontweight=\"bold\")\n",
    "\n",
    "ax.set_xlim(-1, 25)\n",
    "ax.set_ylim(30, 50)\n",
    "ax.set_xlabel(\"Weight (g)\")\n",
    "ax.set_ylabel(\"Tumor Volume (mm3)\")\n",
    "ax.plot(x_axis, corr, linewidth=0, marker='o')\n",
    "ax.plot(x_axis, fit, 'b--')\n",
    "plt.annotate(0.841936,(17,37),fontsize=15,color=\"r\")\n",
    "\n",
    "plt.show()"
   ]
  },
  {
   "cell_type": "code",
   "execution_count": null,
   "metadata": {},
   "outputs": [],
   "source": []
  }
 ],
 "metadata": {
  "anaconda-cloud": {},
  "kernelspec": {
   "display_name": "Python 3",
   "language": "python",
   "name": "python3"
  },
  "language_info": {
   "codemirror_mode": {
    "name": "ipython",
    "version": 3
   },
   "file_extension": ".py",
   "mimetype": "text/x-python",
   "name": "python",
   "nbconvert_exporter": "python",
   "pygments_lexer": "ipython3",
   "version": "3.7.3"
  }
 },
 "nbformat": 4,
 "nbformat_minor": 2
}
